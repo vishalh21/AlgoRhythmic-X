{
  "nbformat": 4,
  "nbformat_minor": 0,
  "metadata": {
    "colab": {
      "provenance": []
    },
    "kernelspec": {
      "name": "python3",
      "display_name": "Python 3"
    },
    "language_info": {
      "name": "python"
    }
  },
  "cells": [
    {
      "cell_type": "code",
      "source": [
        "import pandas as pd\n",
        "import numpy as np\n",
        "import yfinance as yf\n",
        "\n",
        "def calculate_rsi(series, period=14):\n",
        "    delta = series.diff()\n",
        "    gain = delta.where(delta > 0, 0)\n",
        "    loss = -delta.where(delta < 0, 0)\n",
        "    avg_gain = gain.rolling(window=period, min_periods=1).mean()\n",
        "    avg_loss = loss.rolling(window=period, min_periods=1).mean()\n",
        "    rs = avg_gain / avg_loss\n",
        "    rsi = 100 - (100 / (1 + rs))\n",
        "    return rsi\n",
        "\n",
        "def calculate_stochastic(high, low, close, period=14):\n",
        "    lowest_low = low.rolling(window=period, min_periods=1).min()\n",
        "    highest_high = high.rolling(window=period, min_periods=1).max()\n",
        "    stochastic = 100 * ((close - lowest_low) / (highest_high - lowest_low))\n",
        "    return stochastic\n",
        "\n",
        "def calculate_williams_r(high, low, close, period=14):\n",
        "    highest_high = high.rolling(window=period, min_periods=1).max()\n",
        "    lowest_low = low.rolling(window=period, min_periods=1).min()\n",
        "    williams_r = -100 * ((highest_high - close) / (highest_high - lowest_low))\n",
        "    return williams_r\n",
        "\n",
        "ticker = \"NVDA\"\n",
        "stock_data = yf.download(ticker, period=\"2y\")\n",
        "\n",
        "stock_data['RSI'] = calculate_rsi(stock_data['Close'])\n",
        "stock_data['Stochastic'] = calculate_stochastic(stock_data['High'], stock_data['Low'], stock_data['Close'])\n",
        "stock_data['Williams %R'] = calculate_williams_r(stock_data['High'], stock_data['Low'], stock_data['Close'])\n",
        "\n",
        "def calculate_trading_signals(stock_data):\n",
        "    signals = []\n",
        "    for i in range(len(stock_data)):\n",
        "        signal = 0\n",
        "        if stock_data['RSI'][i] < 30 and stock_data['Stochastic'][i] < 20 and stock_data['Williams %R'][i] < -80:\n",
        "            signal = 1\n",
        "        if stock_data['RSI'][i] > 70 and stock_data['Stochastic'][i] > 80 and stock_data['Williams %R'][i] > -20:\n",
        "            signal = -1\n",
        "        signals.append(signal)\n",
        "    stock_data['Signal'] = signals\n",
        "    stock_data['Prediction'] = stock_data['Signal'].diff()\n",
        "    return stock_data\n",
        "\n",
        "stock_data = calculate_trading_signals(stock_data)\n",
        "\n",
        "def calculate_returns(stock_data, initial_capital=100000):\n",
        "    capital = initial_capital\n",
        "    capital_series = [capital]\n",
        "    holding = False\n",
        "    buy_price = 0\n",
        "\n",
        "    for i in range(len(stock_data)):\n",
        "        if stock_data['Prediction'][i] == 1:\n",
        "            buy_price = stock_data['Close'][i]\n",
        "            holding = True\n",
        "        elif stock_data['Prediction'][i] == -1 and holding:\n",
        "            capital += (stock_data['Close'][i] - buy_price) * (capital / buy_price)\n",
        "            holding = False\n",
        "        capital_series.append(capital)\n",
        "\n",
        "    stock_data['Capital'] = capital_series[1:]\n",
        "    return stock_data\n",
        "\n",
        "stock_data = calculate_returns(stock_data)\n",
        "final_capital = stock_data['Capital'].iloc[-1]\n",
        "\n",
        "def calculate_max_drawdown(stock_data):\n",
        "    cumulative = stock_data['Capital']\n",
        "    running_max = cumulative.cummax()\n",
        "    drawdown = cumulative - running_max\n",
        "    max_drawdown = drawdown.min()\n",
        "    return max_drawdown*(-1)\n",
        "\n",
        "max_drawdown = calculate_max_drawdown(stock_data)\n",
        "\n",
        "def calculate_sharpe_ratio(stock_data, risk_free_rate=0):\n",
        "    daily_returns = stock_data['Capital'].pct_change().dropna()\n",
        "    excess_return = daily_returns - risk_free_rate/252\n",
        "    mean_excess_return = excess_return.mean()\n",
        "    std_excess_return = excess_return.std()\n",
        "    sharpe_ratio = mean_excess_return / std_excess_return\n",
        "    return sharpe_ratio * np.sqrt(252)\n",
        "\n",
        "sharpe_ratio = calculate_sharpe_ratio(stock_data)\n",
        "\n",
        "print(f\"Final Capital:₹{final_capital:.2f}\")\n",
        "print(f\"Maximum Drawdown:₹{max_drawdown:.2f}\")\n",
        "print(f\"Sharpe Ratio:{sharpe_ratio:.2f}\")\n"
      ],
      "metadata": {
        "colab": {
          "base_uri": "https://localhost:8080/"
        },
        "id": "oWxSROi4_ako",
        "outputId": "1088055a-4d10-4e51-8266-9cfe4937f1e5"
      },
      "execution_count": 5,
      "outputs": [
        {
          "output_type": "stream",
          "name": "stderr",
          "text": [
            "\r[*********************100%%**********************]  1 of 1 completed"
          ]
        },
        {
          "output_type": "stream",
          "name": "stdout",
          "text": [
            "Final Capital:₹746135.99\n",
            "Maximum Drawdown:₹12010.69\n",
            "Sharpe Ratio:3.05\n"
          ]
        },
        {
          "output_type": "stream",
          "name": "stderr",
          "text": [
            "\n"
          ]
        }
      ]
    }
  ]
}