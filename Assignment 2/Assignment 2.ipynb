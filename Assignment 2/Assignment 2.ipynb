{
 "cells": [
  {
   "cell_type": "code",
   "execution_count": 2,
   "id": "d4f82ac5",
   "metadata": {},
   "outputs": [],
   "source": [
    "import pandas as pd\n",
    "import yfinance as yf\n",
    "import numpy as np"
   ]
  },
  {
   "cell_type": "code",
   "execution_count": 8,
   "id": "a61d5f07",
   "metadata": {},
   "outputs": [],
   "source": [
    "tickers_df = pd.read_csv(r\"C:\\Users\\DELL\\Downloads\\ind_nifty100list.csv\")\n",
    "tickers_df['Symbol'] = tickers_df['Symbol'] + '.NS' "
   ]
  },
  {
   "cell_type": "code",
   "execution_count": 9,
   "id": "3d11f382",
   "metadata": {},
   "outputs": [
    {
     "name": "stdout",
     "output_type": "stream",
     "text": [
      "0             ABB.NS\n",
      "1      ADANIENSOL.NS\n",
      "2        ADANIENT.NS\n",
      "3      ADANIGREEN.NS\n",
      "4      ADANIPORTS.NS\n",
      "           ...      \n",
      "96            VBL.NS\n",
      "97           VEDL.NS\n",
      "98          WIPRO.NS\n",
      "99         ZOMATO.NS\n",
      "100     ZYDUSLIFE.NS\n",
      "Name: Symbol, Length: 101, dtype: object\n"
     ]
    }
   ],
   "source": [
    "print(tickers_df['Symbol'])"
   ]
  },
  {
   "cell_type": "code",
   "execution_count": 12,
   "id": "f1141157",
   "metadata": {},
   "outputs": [
    {
     "name": "stdout",
     "output_type": "stream",
     "text": [
      "101\n"
     ]
    }
   ],
   "source": [
    "print(len(all_data))"
   ]
  },
  {
   "cell_type": "code",
   "execution_count": 38,
   "id": "e8db2f52",
   "metadata": {},
   "outputs": [],
   "source": [
    "def calculate_volatility(data):\n",
    "    log_returns = np.log(data['Close'] / data['Close'].shift(1)).dropna()\n",
    "    volatility = log_returns.std() * np.sqrt(len(data))\n",
    "    return volatility"
   ]
  },
  {
   "cell_type": "code",
   "execution_count": 75,
   "id": "75bf5750",
   "metadata": {},
   "outputs": [],
   "source": [
    "ds = pd.read_excel(r\"C:\\Users\\DELL\\Downloads\\fno.xlsx\")\n",
    "ds['SYMBOL'] = ds['SYMBOL'] + '.NS'"
   ]
  },
  {
   "cell_type": "code",
   "execution_count": 80,
   "id": "83d6f9a0",
   "metadata": {},
   "outputs": [],
   "source": [
    "start_date = \"2023-05-29\"\n",
    "end_date = \"2024-05-29\"\n",
    "\n",
    "all_data = []\n",
    "volatility = []\n",
    "\n",
    "for ticker in tickers_df['Symbol']:\n",
    "    data = yf.download(ticker, start=start_date, end=end_date, progress = False)\n",
    "    Volatility = calculate_volatility(data)\n",
    "    if ticker in ds['SYMBOL'].values:\n",
    "        volatility.append((ticker, Volatility))\n",
    "    all_data.append(data)"
   ]
  },
  {
   "cell_type": "code",
   "execution_count": 81,
   "id": "812ae730",
   "metadata": {},
   "outputs": [],
   "source": [
    "volatility_df = pd.DataFrame(volatility, columns=['Ticker', 'Volatility'])\n",
    "volatility_df = volatility_df.sort_values(by='Volatility')\n",
    "\n",
    "vl = volatility_df.head(30)"
   ]
  },
  {
   "cell_type": "code",
   "execution_count": 82,
   "id": "d6823da4",
   "metadata": {},
   "outputs": [],
   "source": [
    "low_vola = pd.read_csv(r\"C:\\Users\\DELL\\Downloads\\ind_Nifty100LowVolatility30list.csv\")\n",
    "low_vola['Symbol'] = low_vola['Symbol'] + '.NS' "
   ]
  },
  {
   "cell_type": "code",
   "execution_count": 83,
   "id": "9625f0ec",
   "metadata": {},
   "outputs": [
    {
     "name": "stdout",
     "output_type": "stream",
     "text": [
      "30\n",
      "{'ULTRACEMCO.NS', 'TCS.NS', 'CIPLA.NS', 'MARICO.NS', 'SUNPHARMA.NS', 'BAJAJ-AUTO.NS', 'ICICIBANK.NS', 'BERGEPAINT.NS', 'NESTLEIND.NS', 'DRREDDY.NS', 'COLPAL.NS', 'TORNTPHARM.NS', 'DABUR.NS', 'HCLTECH.NS', 'KOTAKBANK.NS', 'ITC.NS', 'RELIANCE.NS', 'BRITANNIA.NS', 'NTPC.NS', 'HEROMOTOCO.NS', 'ASIANPAINT.NS', 'PIDILITIND.NS', 'HDFCBANK.NS', 'SBILIFE.NS', 'HINDUNILVR.NS', 'TITAN.NS', 'POWERGRID.NS', 'WIPRO.NS', 'LT.NS', 'BOSCHLTD.NS'}\n"
     ]
    }
   ],
   "source": [
    "top_30 = set(vl['Ticker'])\n",
    "low_volat = set(low_vola['Symbol'])\n",
    "\n",
    "intersection_tickers = top_30.intersection(low_volat)\n",
    "print(len(top_30))\n",
    "print(low_volat)"
   ]
  },
  {
   "cell_type": "code",
   "execution_count": 84,
   "id": "b9cb766e",
   "metadata": {
    "scrolled": true
   },
   "outputs": [
    {
     "name": "stdout",
     "output_type": "stream",
     "text": [
      "21\n"
     ]
    }
   ],
   "source": [
    "print(len(intersection_tickers))"
   ]
  }
 ],
 "metadata": {
  "kernelspec": {
   "display_name": "Python 3 (ipykernel)",
   "language": "python",
   "name": "python3"
  },
  "language_info": {
   "codemirror_mode": {
    "name": "ipython",
    "version": 3
   },
   "file_extension": ".py",
   "mimetype": "text/x-python",
   "name": "python",
   "nbconvert_exporter": "python",
   "pygments_lexer": "ipython3",
   "version": "3.10.9"
  }
 },
 "nbformat": 4,
 "nbformat_minor": 5
}
