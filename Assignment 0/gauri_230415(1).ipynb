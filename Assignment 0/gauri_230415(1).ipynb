{
  "cells": [
    {
      "cell_type": "code",
      "execution_count": null,
      "metadata": {
        "colab": {
          "base_uri": "https://localhost:8080/"
        },
        "id": "f74XhCD3UtDK",
        "outputId": "704fe7e7-598f-4fe4-fa3d-dc345873eed8"
      },
      "outputs": [
        {
          "name": "stderr",
          "output_type": "stream",
          "text": [
            "[*********************100%%**********************]  1 of 1 completed\n",
            "[*********************100%%**********************]  1 of 1 completed"
          ]
        },
        {
          "name": "stdout",
          "output_type": "stream",
          "text": [
            "                                  Open         High          Low        Close  \\\n",
            "Datetime                                                                        \n",
            "2023-01-03 09:30:00-05:00  3853.290039  3878.459961  3817.229980  3823.179932   \n",
            "2023-01-03 10:30:00-05:00  3823.649902  3837.610107  3810.219971  3815.540039   \n",
            "2023-01-03 11:30:00-05:00  3815.469971  3815.469971  3800.209961  3804.169922   \n",
            "2023-01-03 12:30:00-05:00  3804.239990  3813.949951  3794.330078  3810.050049   \n",
            "2023-01-03 13:30:00-05:00  3810.100098  3815.969971  3803.340088  3804.979980   \n",
            "\n",
            "                             Adj Close     Volume  \n",
            "Datetime                                           \n",
            "2023-01-03 09:30:00-05:00  3823.179932          0  \n",
            "2023-01-03 10:30:00-05:00  3815.540039  282312663  \n",
            "2023-01-03 11:30:00-05:00  3804.169922  224684476  \n",
            "2023-01-03 12:30:00-05:00  3810.050049  189491134  \n",
            "2023-01-03 13:30:00-05:00  3804.979980  190072000  \n",
            "                                Open       High        Low      Close  \\\n",
            "Datetime                                                                \n",
            "2023-01-03 09:30:00-05:00  40.560001  40.849998  39.970001  40.160000   \n",
            "2023-01-03 10:30:00-05:00  40.169998  40.380001  40.090000  40.310001   \n",
            "2023-01-03 11:30:00-05:00  40.300098  40.400002  40.090000  40.090099   \n",
            "2023-01-03 12:30:00-05:00  40.090099  40.455002  40.090099  40.450001   \n",
            "2023-01-03 13:30:00-05:00  40.450001  40.625000  40.380001  40.564999   \n",
            "\n",
            "                           Adj Close  Volume  \n",
            "Datetime                                      \n",
            "2023-01-03 09:30:00-05:00  40.160000  414293  \n",
            "2023-01-03 10:30:00-05:00  40.310001  172508  \n",
            "2023-01-03 11:30:00-05:00  40.090099  253441  \n",
            "2023-01-03 12:30:00-05:00  40.450001  179554  \n",
            "2023-01-03 13:30:00-05:00  40.564999  204574  \n"
          ]
        },
        {
          "name": "stderr",
          "output_type": "stream",
          "text": [
            "\n"
          ]
        }
      ],
      "source": [
        "#print(8)\n",
        "#print(\"hello\")\n",
        "hourly_dataindex=yf.download(\"^GSPC\",start=\"2023-01-01\",end=\"2024-1-01\",interval=\"1h\")\n",
        "hourly_dataindex.head()\n",
        "print(hourly_dataindex.head())\n",
        "hourly_datastock=yf.download(\"DELL\" ,start=\"2023-01-01\",end=\"2024-1-01\",interval=\"1h\")\n",
        "hourly_datastock.head()\n",
        "print(hourly_datastock.head())\n"
      ]
    },
    {
      "cell_type": "code",
      "execution_count": null,
      "metadata": {
        "colab": {
          "base_uri": "https://localhost:8080/"
        },
        "id": "RjRxnCInU4Ad",
        "outputId": "c0f3756c-5a4d-4c31-f14b-eb115a4f794b"
      },
      "outputs": [
        {
          "name": "stdout",
          "output_type": "stream",
          "text": [
            "                   Open         High          Low        Close    Adj Close  \\\n",
            "2023-01-03  3853.290039  3878.459961  3794.330078  3824.070068  3824.070068   \n",
            "2023-01-04  3840.360107  3873.159912  3815.770020  3852.929932  3852.929932   \n",
            "2023-01-05  3839.739990  3839.739990  3802.419922  3808.229980  3808.229980   \n",
            "2023-01-06  3823.370117  3906.189941  3809.560059  3894.199951  3894.199951   \n",
            "2023-01-09  3910.820068  3950.570068  3890.419922  3892.149902  3892.149902   \n",
            "\n",
            "                Volume  \n",
            "2023-01-03  1472014273  \n",
            "2023-01-04  1656812857  \n",
            "2023-01-05  1454685731  \n",
            "2023-01-06  1607257434  \n",
            "2023-01-09  1589854466  \n",
            "                 Open       High        Low      Close  Adj Close   Volume\n",
            "2023-01-03  40.560001  40.974998  39.970001  40.900002  40.900002  2158205\n",
            "2023-01-04  41.389999  41.599998  40.575001  40.935001  40.935001  2515356\n",
            "2023-01-05  40.750000  41.099998  40.279999  40.869999  40.869999  2237596\n",
            "2023-01-06  41.169998  42.590000  40.820000  42.410000  42.410000  2804055\n",
            "2023-01-09  42.700001  43.099998  42.185001  42.285000  42.285000  2675539\n"
          ]
        }
      ],
      "source": [
        "dfi = hourly_dataindex.groupby(hourly_dataindex.index.date).agg({\n",
        "    'Open': 'first',\n",
        "    'High': 'max',\n",
        "    'Low': 'min',\n",
        "    'Close': 'last',\n",
        "    'Adj Close': 'last',\n",
        "    'Volume': 'sum'\n",
        "})\n",
        "dfs = hourly_datastock.groupby(hourly_datastock.index.date).agg({\n",
        "    'Open': 'first',\n",
        "    'High': 'max',\n",
        "    'Low': 'min',\n",
        "    'Close': 'last',\n",
        "    'Adj Close': 'last',\n",
        "    'Volume': 'sum'\n",
        "})\n",
        "print(dfi.head())\n",
        "print(dfs.head())\n",
        "#cumlative return =CR;\n",
        "#dfi[ \"return\" ]=0\n",
        "#dfi[\"CR\"]=0\n",
        "#for i in range (len(dfi)\n",
        "#plt.figure(figsize=(6,6))\n",
        "#plt.plot(dfi[\"close\"],label=\"index\")\n",
        "#sns.lineplot(data=dfi)\n",
        "#import seaborn as sb\n",
        "\n",
        "#plt.xlabel(\"Date\")\n",
        "#plt.show()\n"
      ]
    },
    {
      "cell_type": "code",
      "execution_count": null,
      "metadata": {
        "colab": {
          "base_uri": "https://localhost:8080/"
        },
        "id": "oT2fyBmMVBmv",
        "outputId": "d29c4eec-38d2-4860-c38c-6085f825d91a"
      },
      "outputs": [
        {
          "name": "stdout",
          "output_type": "stream",
          "text": [
            "                   Open         High          Low        Close    Adj Close  \\\n",
            "2023-01-03  3853.290039  3878.459961  3794.330078  3824.070068  3824.070068   \n",
            "2023-01-04  3840.360107  3873.159912  3815.770020  3852.929932  3852.929932   \n",
            "2023-01-05  3839.739990  3839.739990  3802.419922  3808.229980  3808.229980   \n",
            "2023-01-06  3823.370117  3906.189941  3809.560059  3894.199951  3894.199951   \n",
            "2023-01-09  3910.820068  3950.570068  3890.419922  3892.149902  3892.149902   \n",
            "\n",
            "                Volume     return  \n",
            "2023-01-03  1472014273 -19.867269  \n",
            "2023-01-04  1656812857   0.754690  \n",
            "2023-01-05  1454685731  -1.160155  \n",
            "2023-01-06  1607257434   2.257478  \n",
            "2023-01-09  1589854466  -0.052644  \n",
            "                 Open       High        Low      Close  Adj Close   Volume  \\\n",
            "2023-01-03  40.560001  40.974998  39.970001  40.900002  40.900002  2158205   \n",
            "2023-01-04  41.389999  41.599998  40.575001  40.935001  40.935001  2515356   \n",
            "2023-01-05  40.750000  41.099998  40.279999  40.869999  40.869999  2237596   \n",
            "2023-01-06  41.169998  42.590000  40.820000  42.410000  42.410000  2804055   \n",
            "2023-01-09  42.700001  43.099998  42.185001  42.285000  42.285000  2675539   \n",
            "\n",
            "               return  \n",
            "2023-01-03 -46.528955  \n",
            "2023-01-04   0.085574  \n",
            "2023-01-05  -0.158794  \n",
            "2023-01-06   3.768047  \n",
            "2023-01-09  -0.294742  \n",
            "                   Open         High          Low        Close    Adj Close  \\\n",
            "2023-01-03  3853.290039  3878.459961  3794.330078  3824.070068  3824.070068   \n",
            "2023-01-04  3840.360107  3873.159912  3815.770020  3852.929932  3852.929932   \n",
            "2023-01-05  3839.739990  3839.739990  3802.419922  3808.229980  3808.229980   \n",
            "2023-01-06  3823.370117  3906.189941  3809.560059  3894.199951  3894.199951   \n",
            "2023-01-09  3910.820068  3950.570068  3890.419922  3892.149902  3892.149902   \n",
            "\n",
            "                Volume     return        CR  \n",
            "2023-01-03  1472014273 -19.867269  0.000000  \n",
            "2023-01-04  1656812857   0.754690  0.754690  \n",
            "2023-01-05  1454685731  -1.160155 -0.414221  \n",
            "2023-01-06  1607257434   2.257478  1.833907  \n",
            "2023-01-09  1589854466  -0.052644  1.780298  \n",
            "                 Open       High        Low      Close  Adj Close   Volume  \\\n",
            "2023-01-03  40.560001  40.974998  39.970001  40.900002  40.900002  2158205   \n",
            "2023-01-04  41.389999  41.599998  40.575001  40.935001  40.935001  2515356   \n",
            "2023-01-05  40.750000  41.099998  40.279999  40.869999  40.869999  2237596   \n",
            "2023-01-06  41.169998  42.590000  40.820000  42.410000  42.410000  2804055   \n",
            "2023-01-09  42.700001  43.099998  42.185001  42.285000  42.285000  2675539   \n",
            "\n",
            "               return        CR  \n",
            "2023-01-03 -46.528955  0.000000  \n",
            "2023-01-04   0.085574  0.085574  \n",
            "2023-01-05  -0.158794 -0.073356  \n",
            "2023-01-06   3.768047  3.691927  \n",
            "2023-01-09  -0.294742  3.386304  \n"
          ]
        },
        {
          "name": "stderr",
          "output_type": "stream",
          "text": [
            "<ipython-input-4-f17ab283004d>:3: SettingWithCopyWarning: \n",
            "A value is trying to be set on a copy of a slice from a DataFrame\n",
            "\n",
            "See the caveats in the documentation: https://pandas.pydata.org/pandas-docs/stable/user_guide/indexing.html#returning-a-view-versus-a-copy\n",
            "  dfi['return'][i]=(dfi['Close'][i]-dfi['Close'][i-1])*100/dfi['Close'][i-1]\n",
            "<ipython-input-4-f17ab283004d>:8: SettingWithCopyWarning: \n",
            "A value is trying to be set on a copy of a slice from a DataFrame\n",
            "\n",
            "See the caveats in the documentation: https://pandas.pydata.org/pandas-docs/stable/user_guide/indexing.html#returning-a-view-versus-a-copy\n",
            "  dfs['return'][i]=(dfs['Close'][i]-dfs['Close'][i-1])*100/dfs['Close'][i-1]\n",
            "<ipython-input-4-f17ab283004d>:17: SettingWithCopyWarning: \n",
            "A value is trying to be set on a copy of a slice from a DataFrame\n",
            "\n",
            "See the caveats in the documentation: https://pandas.pydata.org/pandas-docs/stable/user_guide/indexing.html#returning-a-view-versus-a-copy\n",
            "  dfi[\"CR\"][i]=( dfi['Close'][i]-dfi['Close'][0])*100/dfi['Close'][0]\n",
            "<ipython-input-4-f17ab283004d>:17: SettingWithCopyWarning: \n",
            "A value is trying to be set on a copy of a slice from a DataFrame\n",
            "\n",
            "See the caveats in the documentation: https://pandas.pydata.org/pandas-docs/stable/user_guide/indexing.html#returning-a-view-versus-a-copy\n",
            "  dfi[\"CR\"][i]=( dfi['Close'][i]-dfi['Close'][0])*100/dfi['Close'][0]\n",
            "<ipython-input-4-f17ab283004d>:24: SettingWithCopyWarning: \n",
            "A value is trying to be set on a copy of a slice from a DataFrame\n",
            "\n",
            "See the caveats in the documentation: https://pandas.pydata.org/pandas-docs/stable/user_guide/indexing.html#returning-a-view-versus-a-copy\n",
            "  dfs[\"CR\"][i]=( dfs['Close'][i]-dfs['Close'][0])*100/dfs['Close'][0]\n",
            "<ipython-input-4-f17ab283004d>:24: SettingWithCopyWarning: \n",
            "A value is trying to be set on a copy of a slice from a DataFrame\n",
            "\n",
            "See the caveats in the documentation: https://pandas.pydata.org/pandas-docs/stable/user_guide/indexing.html#returning-a-view-versus-a-copy\n",
            "  dfs[\"CR\"][i]=( dfs['Close'][i]-dfs['Close'][0])*100/dfs['Close'][0]\n"
          ]
        }
      ],
      "source": [
        "dfi['return']=0\n",
        "for i in range(0,len(dfi)):\n",
        "  dfi['return'][i]=(dfi['Close'][i]-dfi['Close'][i-1])*100/dfi['Close'][i-1]\n",
        "#print(dfi['Close'][0]):\n",
        "print(dfi.head())\n",
        "dfs['return']=0\n",
        "for i in range(0,len(dfi)):\n",
        "  dfs['return'][i]=(dfs['Close'][i]-dfs['Close'][i-1])*100/dfs['Close'][i-1]\n",
        "#print(dfi['Close'][0])\n",
        "print(dfs.head())\n",
        "fi=dfi[\"Close\"][0]\n",
        "fs=dfs[\"Close\"][0]\n",
        "dfi[\"CR\"]=0\n",
        "dfs [\"CR\"]=0\n",
        "\n",
        "for i in range (0,len(dfi)):\n",
        "    dfi[\"CR\"][i]=( dfi['Close'][i]-dfi['Close'][0])*100/dfi['Close'][0]\n",
        "\n",
        "\n",
        "\n",
        "#print(dfi[\"CR\"][i])\n",
        "print(dfi.head())\n",
        "for i in range (0,len(dfi)):\n",
        "    dfs[\"CR\"][i]=( dfs['Close'][i]-dfs['Close'][0])*100/dfs['Close'][0]\n",
        "print(dfs.head())"
      ]
    },
    {
      "cell_type": "markdown",
      "source": [
        "# New section"
      ],
      "metadata": {
        "id": "t3uNxtZ76Pyr"
      }
    },
    {
      "cell_type": "code",
      "execution_count": null,
      "metadata": {
        "colab": {
          "background_save": true,
          "base_uri": "https://localhost:8080/",
          "height": 936
        },
        "id": "BmM807qQVOqP",
        "outputId": "b93dc7f7-7b13-46b6-ffb2-6964cc23751a"
      },
      "outputs": [
        {
          "data": {
            "image/png": "[encoded data removed]",
            "text/plain": [
              "<Figure size 640x480 with 1 Axes>"
            ]
          },
          "metadata": {},
          "output_type": "display_data"
        }
      ],
      "source": [
        "plt.plot(dfi.index, dfi['CR'],color='blue',label='CR')\n",
        "plt.plot(dfi.index, dfs['return'] , color='red',label='return')\n",
        "# plt.plot(df['Date'].iloc[:100],df['bldo'].iloc[:100] ,color='blue')\n",
        "\n",
        "plt.legend()\n",
        "plt.xlabel(\"DATE\")\n",
        "plt.ylabel(\"CUMLATIVE RETURN\")\n",
        "plt.show()"
      ]
    },
    {
      "cell_type": "code",
      "execution_count": null,
      "metadata": {
        "colab": {
          "base_uri": "https://localhost:8080/"
        },
        "id": "h9hlbyNpUWi0",
        "outputId": "6142e852-5f5c-4183-f3f8-3e6d4830ecb6"
      },
      "outputs": [
        {
          "name": "stdout",
          "output_type": "stream",
          "text": [
            "Requirement already satisfied: matplotlib in /usr/local/lib/python3.10/dist-packages (3.7.1)\n",
            "Requirement already satisfied: contourpy>=1.0.1 in /usr/local/lib/python3.10/dist-packages (from matplotlib) (1.2.1)\n",
            "Requirement already satisfied: cycler>=0.10 in /usr/local/lib/python3.10/dist-packages (from matplotlib) (0.12.1)\n",
            "Requirement already satisfied: fonttools>=4.22.0 in /usr/local/lib/python3.10/dist-packages (from matplotlib) (4.51.0)\n",
            "Requirement already satisfied: kiwisolver>=1.0.1 in /usr/local/lib/python3.10/dist-packages (from matplotlib) (1.4.5)\n",
            "Requirement already satisfied: numpy>=1.20 in /usr/local/lib/python3.10/dist-packages (from matplotlib) (1.25.2)\n",
            "Requirement already satisfied: packaging>=20.0 in /usr/local/lib/python3.10/dist-packages (from matplotlib) (24.0)\n",
            "Requirement already satisfied: pillow>=6.2.0 in /usr/local/lib/python3.10/dist-packages (from matplotlib) (9.4.0)\n",
            "Requirement already satisfied: pyparsing>=2.3.1 in /usr/local/lib/python3.10/dist-packages (from matplotlib) (3.1.2)\n",
            "Requirement already satisfied: python-dateutil>=2.7 in /usr/local/lib/python3.10/dist-packages (from matplotlib) (2.8.2)\n",
            "Requirement already satisfied: six>=1.5 in /usr/local/lib/python3.10/dist-packages (from python-dateutil>=2.7->matplotlib) (1.16.0)\n",
            "Collecting yahoofinancials\n",
            "  Downloading yahoofinancials-1.20.tar.gz (51 kB)\n",
            "\u001b[2K     \u001b[90m━━━━━━━━━━━━━━━━━━━━━━━━━━━━━━━━━━━━━━━━\u001b[0m \u001b[32m51.9/51.9 kB\u001b[0m \u001b[31m1.5 MB/s\u001b[0m eta \u001b[36m0:00:00\u001b[0m\n",
            "\u001b[?25h  Preparing metadata (setup.py) ... \u001b[?25l\u001b[?25hdone\n",
            "Requirement already satisfied: pytz>=2022.5 in /usr/local/lib/python3.10/dist-packages (from yahoofinancials) (2023.4)\n",
            "Requirement already satisfied: requests>=2.31 in /usr/local/lib/python3.10/dist-packages (from yahoofinancials) (2.31.0)\n",
            "Requirement already satisfied: appdirs>=1.4.4 in /usr/local/lib/python3.10/dist-packages (from yahoofinancials) (1.4.4)\n",
            "Requirement already satisfied: frozendict>=2.3.4 in /usr/local/lib/python3.10/dist-packages (from yahoofinancials) (2.4.4)\n",
            "Requirement already satisfied: peewee>=3.16.2 in /usr/local/lib/python3.10/dist-packages (from yahoofinancials) (3.17.3)\n",
            "Requirement already satisfied: beautifulsoup4>=4.11.1 in /usr/local/lib/python3.10/dist-packages (from yahoofinancials) (4.12.3)\n",
            "Requirement already satisfied: lxml>=4.9.1 in /usr/local/lib/python3.10/dist-packages (from yahoofinancials) (4.9.4)\n",
            "Requirement already satisfied: soupsieve>1.2 in /usr/local/lib/python3.10/dist-packages (from beautifulsoup4>=4.11.1->yahoofinancials) (2.5)\n",
            "Requirement already satisfied: charset-normalizer<4,>=2 in /usr/local/lib/python3.10/dist-packages (from requests>=2.31->yahoofinancials) (3.3.2)\n",
            "Requirement already satisfied: idna<4,>=2.5 in /usr/local/lib/python3.10/dist-packages (from requests>=2.31->yahoofinancials) (3.7)\n",
            "Requirement already satisfied: urllib3<3,>=1.21.1 in /usr/local/lib/python3.10/dist-packages (from requests>=2.31->yahoofinancials) (2.0.7)\n",
            "Requirement already satisfied: certifi>=2017.4.17 in /usr/local/lib/python3.10/dist-packages (from requests>=2.31->yahoofinancials) (2024.2.2)\n",
            "Building wheels for collected packages: yahoofinancials\n",
            "  Building wheel for yahoofinancials (setup.py) ... \u001b[?25l\u001b[?25hdone\n",
            "  Created wheel for yahoofinancials: filename=yahoofinancials-1.20-py3-none-any.whl size=38617 sha256=9e1893eab7f1e278836420680c6e30308b3de3cafa45997a098b800daeb45763\n",
            "  Stored in directory: /root/.cache/pip/wheels/cc/6b/dd/7ff776de4ebf7b144bb9562a813be59d0108306f368af9b637\n",
            "Successfully built yahoofinancials\n",
            "Installing collected packages: yahoofinancials\n",
            "Successfully installed yahoofinancials-1.20\n"
          ]
        }
      ],
      "source": []
    },
    {
      "cell_type": "code",
      "execution_count": null,
      "metadata": {
        "id": "5jRWnDkOYo_q"
      },
      "outputs": [],
      "source": [
        "\n"
      ]
    },
    {
      "cell_type": "markdown",
      "metadata": {
        "id": "dBMu2e7XVBRT"
      },
      "source": []
    }
  ],
  "metadata": {
    "colab": {
      "provenance": []
    },
    "kernelspec": {
      "display_name": "Python 3",
      "name": "python3"
    },
    "language_info": {
      "name": "python"
    }
  },
  "nbformat": 4,
  "nbformat_minor": 0
}